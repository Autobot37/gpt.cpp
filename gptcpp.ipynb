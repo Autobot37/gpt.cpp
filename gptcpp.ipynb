{
  "nbformat": 4,
  "nbformat_minor": 0,
  "metadata": {
    "colab": {
      "provenance": [],
      "include_colab_link": true
    },
    "kernelspec": {
      "name": "python3",
      "display_name": "Python 3"
    },
    "language_info": {
      "name": "python"
    }
  },
  "cells": [
    {
      "cell_type": "markdown",
      "metadata": {
        "id": "view-in-github",
        "colab_type": "text"
      },
      "source": [
        "<a href=\"https://colab.research.google.com/github/Autobot37/gpt.cpp/blob/main/gptcpp.ipynb\" target=\"_parent\"><img src=\"https://colab.research.google.com/assets/colab-badge.svg\" alt=\"Open In Colab\"/></a>"
      ]
    },
    {
      "cell_type": "code",
      "source": [
        "!pip install einops"
      ],
      "metadata": {
        "colab": {
          "base_uri": "https://localhost:8080/"
        },
        "id": "KbwjVnUkFGY3",
        "outputId": "0acf72b9-0835-4bfa-f4a4-50bff10fd234"
      },
      "execution_count": null,
      "outputs": [
        {
          "output_type": "stream",
          "name": "stdout",
          "text": [
            "Requirement already satisfied: einops in /usr/local/lib/python3.10/dist-packages (0.6.1)\n"
          ]
        }
      ]
    },
    {
      "cell_type": "code",
      "execution_count": null,
      "metadata": {
        "id": "KJuQaj5geVIF"
      },
      "outputs": [],
      "source": [
        "import numpy as np\n",
        "import torch\n",
        "from einops import rearrange\n",
        "from torch import nn\n",
        "\n",
        "\n",
        "\n",
        "dim = 4\n",
        "to_qvk = nn.Linear(dim, dim * 3, bias=False)\n",
        "\n",
        "x = torch.randn((4,4))\n",
        "\n",
        "# Step 1\n",
        "qkv = to_qvk(x)  # [tokens, dim*3 ]\n",
        "\n",
        "# decomposition to q,v,k\n",
        "# rearrange tensor to [3,tokens, dim] and cast to tuple\n",
        "#q, k, v = tuple(rearrange(qkv, 't (d k) -> k t d ', k=3))\n",
        "q = [[0]*4 for _ in range(4)]\n",
        "k = [[0]*4 for _ in range(4)]\n",
        "v = [[0]*4 for _ in range(4)]\n",
        "\n",
        "for i in range(4):\n",
        "  for j in range(4):\n",
        "    q[i][j] = qkv[i][3*j]\n",
        "    k[i][j] = qkv[i][3*j+1]\n",
        "    v[i][j] = qkv[i][3*j+2]\n",
        "\n",
        "q = torch.tensor(q)\n",
        "k = torch.tensor(k)\n",
        "v = torch.tensor(v)\n"
      ]
    },
    {
      "cell_type": "code",
      "source": [
        "n_head = 2\n",
        "head_size = 2\n",
        "block_size = 4\n",
        "n_embd = 4"
      ],
      "metadata": {
        "id": "Wp_S0aJAn-sF"
      },
      "execution_count": null,
      "outputs": []
    },
    {
      "cell_type": "code",
      "source": [
        "q.shape,qkv.shape"
      ],
      "metadata": {
        "colab": {
          "base_uri": "https://localhost:8080/"
        },
        "id": "1szIkdukF2k6",
        "outputId": "3676cb1f-1101-4dec-fee0-ce6685df226e"
      },
      "execution_count": null,
      "outputs": [
        {
          "output_type": "execute_result",
          "data": {
            "text/plain": [
              "(torch.Size([4, 4]), torch.Size([4, 12]))"
            ]
          },
          "metadata": {},
          "execution_count": 165
        }
      ]
    },
    {
      "cell_type": "code",
      "source": [
        "qkv,k"
      ],
      "metadata": {
        "colab": {
          "base_uri": "https://localhost:8080/"
        },
        "id": "mpkHlXfKHs9F",
        "outputId": "4bb8587d-6504-4c53-e72c-df1720f4e66b"
      },
      "execution_count": null,
      "outputs": [
        {
          "output_type": "execute_result",
          "data": {
            "text/plain": [
              "(tensor([[ 0.3235, -0.2445, -0.5229, -0.4231, -0.1864,  0.5530, -0.1740, -0.9017,\n",
              "          -0.2983,  0.3473,  0.4393,  0.2487],\n",
              "         [-0.0996,  0.2137,  0.5813,  0.4434, -0.2762, -0.0313, -0.8811,  0.7465,\n",
              "          -0.2741, -0.1409, -0.4585,  0.3756],\n",
              "         [ 0.0424, -0.5876,  0.4334, -0.6915,  1.0802, -0.7285,  0.7560,  0.5750,\n",
              "          -0.1491, -0.1219,  0.5656, -0.9532],\n",
              "         [-0.5714,  0.0051, -0.6259,  0.2996, -0.1645,  0.4157,  0.4780, -0.8865,\n",
              "           0.7962, -0.2889,  0.0950,  0.1860]], grad_fn=<MmBackward0>),\n",
              " tensor([[-0.2445, -0.1864, -0.9017,  0.4393],\n",
              "         [ 0.2137, -0.2762,  0.7465, -0.4585],\n",
              "         [-0.5876,  1.0802,  0.5750,  0.5656],\n",
              "         [ 0.0051, -0.1645, -0.8865,  0.0950]]))"
            ]
          },
          "metadata": {},
          "execution_count": 122
        }
      ]
    },
    {
      "cell_type": "code",
      "source": [
        "print((q == qkv[:,0::3]).all())\n",
        "print((k == qkv[:,1::3]).all())\n",
        "print((v == qkv[:,2::3]).all())"
      ],
      "metadata": {
        "colab": {
          "base_uri": "https://localhost:8080/"
        },
        "id": "EwDBKlGRFjqT",
        "outputId": "0b8a5d8d-c5a8-4822-9135-101ba466f68e"
      },
      "execution_count": null,
      "outputs": [
        {
          "output_type": "stream",
          "name": "stdout",
          "text": [
            "tensor(True)\n",
            "tensor(True)\n",
            "tensor(True)\n"
          ]
        }
      ]
    },
    {
      "cell_type": "code",
      "source": [
        "k"
      ],
      "metadata": {
        "colab": {
          "base_uri": "https://localhost:8080/"
        },
        "id": "BG1-6CWcM95b",
        "outputId": "11760ab1-966f-46e0-debd-d826e2b75350"
      },
      "execution_count": null,
      "outputs": [
        {
          "output_type": "execute_result",
          "data": {
            "text/plain": [
              "tensor([[-0.2445, -0.1864, -0.9017,  0.4393],\n",
              "        [ 0.2137, -0.2762,  0.7465, -0.4585],\n",
              "        [-0.5876,  1.0802,  0.5750,  0.5656],\n",
              "        [ 0.0051, -0.1645, -0.8865,  0.0950]])"
            ]
          },
          "metadata": {},
          "execution_count": 124
        }
      ]
    },
    {
      "cell_type": "code",
      "source": [
        "k = k.view(4, 2, 4 // 2).transpose(0, 1)"
      ],
      "metadata": {
        "id": "IIYJH0qtFtJ4"
      },
      "execution_count": null,
      "outputs": []
    },
    {
      "cell_type": "code",
      "source": [
        "k,k.shape"
      ],
      "metadata": {
        "colab": {
          "base_uri": "https://localhost:8080/"
        },
        "id": "ICOky1UOM5Ml",
        "outputId": "35bf92c3-63c5-4e07-b236-a6740ab046f2"
      },
      "execution_count": null,
      "outputs": [
        {
          "output_type": "execute_result",
          "data": {
            "text/plain": [
              "(tensor([[[-0.2445, -0.1864],\n",
              "          [ 0.2137, -0.2762],\n",
              "          [-0.5876,  1.0802],\n",
              "          [ 0.0051, -0.1645]],\n",
              " \n",
              "         [[-0.9017,  0.4393],\n",
              "          [ 0.7465, -0.4585],\n",
              "          [ 0.5750,  0.5656],\n",
              "          [-0.8865,  0.0950]]]),\n",
              " torch.Size([2, 4, 2]))"
            ]
          },
          "metadata": {},
          "execution_count": 126
        }
      ]
    },
    {
      "cell_type": "code",
      "source": [
        "qkv#1 4 7 10 13 16"
      ],
      "metadata": {
        "colab": {
          "base_uri": "https://localhost:8080/"
        },
        "id": "KaR6ctFIjFM5",
        "outputId": "50602bd4-38c6-4f5f-cc22-1fda3396f598"
      },
      "execution_count": null,
      "outputs": [
        {
          "output_type": "execute_result",
          "data": {
            "text/plain": [
              "tensor([[ 0.3235, -0.2445, -0.5229, -0.4231, -0.1864,  0.5530, -0.1740, -0.9017,\n",
              "         -0.2983,  0.3473,  0.4393,  0.2487],\n",
              "        [-0.0996,  0.2137,  0.5813,  0.4434, -0.2762, -0.0313, -0.8811,  0.7465,\n",
              "         -0.2741, -0.1409, -0.4585,  0.3756],\n",
              "        [ 0.0424, -0.5876,  0.4334, -0.6915,  1.0802, -0.7285,  0.7560,  0.5750,\n",
              "         -0.1491, -0.1219,  0.5656, -0.9532],\n",
              "        [-0.5714,  0.0051, -0.6259,  0.2996, -0.1645,  0.4157,  0.4780, -0.8865,\n",
              "          0.7962, -0.2889,  0.0950,  0.1860]], grad_fn=<MmBackward0>)"
            ]
          },
          "metadata": {},
          "execution_count": 127
        }
      ]
    },
    {
      "cell_type": "code",
      "source": [
        "compk = k"
      ],
      "metadata": {
        "id": "OhExhjCZlYGG"
      },
      "execution_count": null,
      "outputs": []
    },
    {
      "cell_type": "code",
      "source": [
        "kd = torch.zeros_like(k)\n",
        "\n",
        "#n_head, block_size, head_size\n",
        "\n",
        "for i in range(n_head):\n",
        "  for j in range(block_size):\n",
        "    for k in range(head_size):\n",
        "      kd[i][j][k] = qkv[j][3*k + 1 + 6*i]\n"
      ],
      "metadata": {
        "id": "jiSs43lhjtxk"
      },
      "execution_count": null,
      "outputs": []
    },
    {
      "cell_type": "code",
      "source": [
        "qkv"
      ],
      "metadata": {
        "colab": {
          "base_uri": "https://localhost:8080/"
        },
        "id": "yIxV5TP4pRSI",
        "outputId": "eecff257-946e-4293-ef33-d6ce177cc522"
      },
      "execution_count": null,
      "outputs": [
        {
          "output_type": "execute_result",
          "data": {
            "text/plain": [
              "tensor([[ 0.3235, -0.2445, -0.5229, -0.4231, -0.1864,  0.5530, -0.1740, -0.9017,\n",
              "         -0.2983,  0.3473,  0.4393,  0.2487],\n",
              "        [-0.0996,  0.2137,  0.5813,  0.4434, -0.2762, -0.0313, -0.8811,  0.7465,\n",
              "         -0.2741, -0.1409, -0.4585,  0.3756],\n",
              "        [ 0.0424, -0.5876,  0.4334, -0.6915,  1.0802, -0.7285,  0.7560,  0.5750,\n",
              "         -0.1491, -0.1219,  0.5656, -0.9532],\n",
              "        [-0.5714,  0.0051, -0.6259,  0.2996, -0.1645,  0.4157,  0.4780, -0.8865,\n",
              "          0.7962, -0.2889,  0.0950,  0.1860]], grad_fn=<MmBackward0>)"
            ]
          },
          "metadata": {},
          "execution_count": 130
        }
      ]
    },
    {
      "cell_type": "code",
      "source": [
        "compk.transpose(-2,-1)"
      ],
      "metadata": {
        "colab": {
          "base_uri": "https://localhost:8080/"
        },
        "id": "VymiRJWwpNFA",
        "outputId": "0328a0d7-bc36-43a0-d651-7e6a130a3276"
      },
      "execution_count": null,
      "outputs": [
        {
          "output_type": "execute_result",
          "data": {
            "text/plain": [
              "tensor([[[-0.2445,  0.2137, -0.5876,  0.0051],\n",
              "         [-0.1864, -0.2762,  1.0802, -0.1645]],\n",
              "\n",
              "        [[-0.9017,  0.7465,  0.5750, -0.8865],\n",
              "         [ 0.4393, -0.4585,  0.5656,  0.0950]]])"
            ]
          },
          "metadata": {},
          "execution_count": 131
        }
      ]
    },
    {
      "cell_type": "code",
      "source": [
        "origtk = compk.transpose(-2,-1)\n",
        "origtk.shape"
      ],
      "metadata": {
        "colab": {
          "base_uri": "https://localhost:8080/"
        },
        "id": "V-rmN5IwqAta",
        "outputId": "6b990c43-07c1-4f0a-89c1-e7eff6179f7e"
      },
      "execution_count": null,
      "outputs": [
        {
          "output_type": "execute_result",
          "data": {
            "text/plain": [
              "torch.Size([2, 2, 4])"
            ]
          },
          "metadata": {},
          "execution_count": 132
        }
      ]
    },
    {
      "cell_type": "code",
      "source": [
        "tk = torch.zeros_like(origtk)\n",
        "for i in range(n_head):\n",
        "  for j in range(head_size):\n",
        "    for k in range(block_size):\n",
        "      tk[i][j][k] = qkv[k][3*j + 6*i + 1]\n"
      ],
      "metadata": {
        "id": "m3McecHFpVie"
      },
      "execution_count": null,
      "outputs": []
    },
    {
      "cell_type": "code",
      "source": [
        "origtk.shape,tk.shape"
      ],
      "metadata": {
        "colab": {
          "base_uri": "https://localhost:8080/"
        },
        "id": "xNHGbegJqRee",
        "outputId": "eb307b13-62d2-4d88-e37b-746ee2a72a4a"
      },
      "execution_count": null,
      "outputs": [
        {
          "output_type": "execute_result",
          "data": {
            "text/plain": [
              "(torch.Size([2, 2, 4]), torch.Size([2, 2, 4]))"
            ]
          },
          "metadata": {},
          "execution_count": 134
        }
      ]
    },
    {
      "cell_type": "code",
      "source": [
        "torch.allclose(origtk,tk)"
      ],
      "metadata": {
        "colab": {
          "base_uri": "https://localhost:8080/"
        },
        "id": "JpfDv-IHp8aa",
        "outputId": "d5a23167-59b1-4ddd-b7d6-2528e4d5a07c"
      },
      "execution_count": null,
      "outputs": [
        {
          "output_type": "execute_result",
          "data": {
            "text/plain": [
              "True"
            ]
          },
          "metadata": {},
          "execution_count": 135
        }
      ]
    },
    {
      "cell_type": "code",
      "source": [
        "compk"
      ],
      "metadata": {
        "colab": {
          "base_uri": "https://localhost:8080/"
        },
        "id": "m9vuoRIulSyS",
        "outputId": "980318f6-8e64-4623-e145-0b908e301a6e"
      },
      "execution_count": null,
      "outputs": [
        {
          "output_type": "execute_result",
          "data": {
            "text/plain": [
              "tensor([[[-0.2445, -0.1864],\n",
              "         [ 0.2137, -0.2762],\n",
              "         [-0.5876,  1.0802],\n",
              "         [ 0.0051, -0.1645]],\n",
              "\n",
              "        [[-0.9017,  0.4393],\n",
              "         [ 0.7465, -0.4585],\n",
              "         [ 0.5750,  0.5656],\n",
              "         [-0.8865,  0.0950]]])"
            ]
          },
          "metadata": {},
          "execution_count": 136
        }
      ]
    },
    {
      "cell_type": "code",
      "source": [
        "torch.allclose(compk,kd)"
      ],
      "metadata": {
        "colab": {
          "base_uri": "https://localhost:8080/"
        },
        "id": "Vhj-shU0lkO5",
        "outputId": "04df09a9-d5bc-44d9-e768-328b5da7387b"
      },
      "execution_count": null,
      "outputs": [
        {
          "output_type": "execute_result",
          "data": {
            "text/plain": [
              "True"
            ]
          },
          "metadata": {},
          "execution_count": 137
        }
      ]
    },
    {
      "cell_type": "code",
      "source": [
        "torch.allclose(kd,compk)"
      ],
      "metadata": {
        "colab": {
          "base_uri": "https://localhost:8080/"
        },
        "id": "dI7L7FNrlLRL",
        "outputId": "a11cb914-6bde-47b6-c173-670f1f603fe1"
      },
      "execution_count": null,
      "outputs": [
        {
          "output_type": "execute_result",
          "data": {
            "text/plain": [
              "True"
            ]
          },
          "metadata": {},
          "execution_count": 138
        }
      ]
    },
    {
      "cell_type": "code",
      "source": [
        "#simulating 3d multiplication without distrbing 0th dim\n",
        "a = torch.randn((2,4,6))\n",
        "b = torch.randn((2,6,4))"
      ],
      "metadata": {
        "id": "q46Mf2pRtJIw"
      },
      "execution_count": null,
      "outputs": []
    },
    {
      "cell_type": "code",
      "source": [
        "tc = a@b"
      ],
      "metadata": {
        "id": "2aD3lUx-tes8"
      },
      "execution_count": null,
      "outputs": []
    },
    {
      "cell_type": "code",
      "source": [
        "c = torch.zeros((2,4,4))"
      ],
      "metadata": {
        "id": "Aa8XTv9btTAn"
      },
      "execution_count": null,
      "outputs": []
    },
    {
      "cell_type": "code",
      "source": [
        "shape_a = (2, 4, 6)\n",
        "shape_b = (2, 6, 4)\n",
        "shape_c = (2, 4, 4)\n",
        "for i in range(shape_a[0]):  # Iterate over the first dimension (2)\n",
        "    for j in range(shape_a[1]):  # Iterate over the second dimension (4)\n",
        "        for k in range(shape_b[2]):  # Iterate over the third dimension (4)\n",
        "            for m in range(shape_a[2]):  # Iterate over the inner dimension (6)\n",
        "                c[i, j, k] += a[i, j, m] * b[i, m, k]"
      ],
      "metadata": {
        "id": "kbsaMZcTtZx7"
      },
      "execution_count": null,
      "outputs": []
    },
    {
      "cell_type": "code",
      "source": [
        "torch.allclose(tc,c)"
      ],
      "metadata": {
        "id": "gw9PJ1CCtzaD",
        "outputId": "702a5a97-c4fc-4144-fd61-9c14a30bd09a",
        "colab": {
          "base_uri": "https://localhost:8080/"
        }
      },
      "execution_count": null,
      "outputs": [
        {
          "output_type": "execute_result",
          "data": {
            "text/plain": [
              "True"
            ]
          },
          "metadata": {},
          "execution_count": 143
        }
      ]
    },
    {
      "cell_type": "code",
      "source": [
        "c.shape"
      ],
      "metadata": {
        "colab": {
          "base_uri": "https://localhost:8080/"
        },
        "id": "XNiib052ybzt",
        "outputId": "6e4822b6-29a8-49be-d567-0329b0dbe0c4"
      },
      "execution_count": null,
      "outputs": [
        {
          "output_type": "execute_result",
          "data": {
            "text/plain": [
              "torch.Size([2, 4, 4])"
            ]
          },
          "metadata": {},
          "execution_count": 147
        }
      ]
    },
    {
      "cell_type": "code",
      "source": [
        "a = torch.randn((2,2,2))\n",
        "torch.nn.functional.softmax(a,dim=-1)"
      ],
      "metadata": {
        "colab": {
          "base_uri": "https://localhost:8080/"
        },
        "id": "Nj-fF_aG0UmQ",
        "outputId": "eb0e2722-65df-48bf-84ae-9587d3924683"
      },
      "execution_count": null,
      "outputs": [
        {
          "output_type": "execute_result",
          "data": {
            "text/plain": [
              "tensor([[[0.7354, 0.2646],\n",
              "         [0.4193, 0.5807]],\n",
              "\n",
              "        [[0.8538, 0.1462],\n",
              "         [0.2116, 0.7884]]])"
            ]
          },
          "metadata": {},
          "execution_count": 159
        }
      ]
    },
    {
      "cell_type": "code",
      "source": [
        "soft = torch.nn.functional.softmax(c,dim=-1)\n",
        "att_softmax = torch.zeros_like(c)\n",
        "att = c"
      ],
      "metadata": {
        "id": "widMxrrqyekm"
      },
      "execution_count": null,
      "outputs": []
    },
    {
      "cell_type": "code",
      "source": [
        "flat = att.flatten().tolist()\n"
      ],
      "metadata": {
        "id": "pKG7K8gl-rCy"
      },
      "execution_count": null,
      "outputs": []
    },
    {
      "cell_type": "code",
      "source": [
        "for i in range(n_head):\n",
        "    for j in range(block_size):\n",
        "        row_max = max(att[i, j, :])\n",
        "        row_sum = 0.0\n",
        "        for k in range(block_size):\n",
        "            att[i, j, k] = np.exp(att[i, j, k] - row_max)\n",
        "            row_sum += att[i, j, k]\n",
        "        for k in range(block_size):\n",
        "            att[i, j, k] /= row_sum"
      ],
      "metadata": {
        "id": "7J5GgVXEzIJy"
      },
      "execution_count": null,
      "outputs": []
    },
    {
      "cell_type": "code",
      "source": [
        "torch.allclose(att,soft)"
      ],
      "metadata": {
        "colab": {
          "base_uri": "https://localhost:8080/"
        },
        "id": "O_gc2ve_ziXw",
        "outputId": "82aae222-0103-46c5-fbfb-cc60d11e7374"
      },
      "execution_count": null,
      "outputs": [
        {
          "output_type": "execute_result",
          "data": {
            "text/plain": [
              "False"
            ]
          },
          "metadata": {},
          "execution_count": 158
        }
      ]
    },
    {
      "cell_type": "code",
      "source": [
        "n_head = 2\n",
        "head_size = 2\n",
        "block_size = 4\n",
        "n_embd = 4"
      ],
      "metadata": {
        "id": "P3SU5o3IM6Ng"
      },
      "execution_count": null,
      "outputs": []
    },
    {
      "cell_type": "code",
      "source": [
        "k3d = [[[0]*2 for _ in range(4)] for _ in range(2)]\n",
        "k3d = torch.tensor(k3d,dtype=torch.float32)\n",
        "k3d.shape"
      ],
      "metadata": {
        "colab": {
          "base_uri": "https://localhost:8080/"
        },
        "id": "LLlNNLNMjkIh",
        "outputId": "e191ad74-0a50-48dc-fab0-3a13017064f3"
      },
      "execution_count": null,
      "outputs": [
        {
          "output_type": "execute_result",
          "data": {
            "text/plain": [
              "torch.Size([2, 4, 2])"
            ]
          },
          "metadata": {},
          "execution_count": 167
        }
      ]
    },
    {
      "cell_type": "code",
      "source": [
        "for i in range(n_head):\n",
        "  for b in range(block_size):\n",
        "    for h in range(head_size):\n",
        "      k3d[i][b][h] = k[b][i*n_head + h]"
      ],
      "metadata": {
        "id": "U2Fji649ke8g"
      },
      "execution_count": null,
      "outputs": []
    },
    {
      "cell_type": "code",
      "source": [
        "(k3d == k).all()"
      ],
      "metadata": {
        "id": "vhNBr01zlVqK"
      },
      "execution_count": null,
      "outputs": []
    },
    {
      "cell_type": "code",
      "source": [
        "torch.tril(torch.ones(block_size,block_size)).view(1, 1, block_size, block_size)"
      ],
      "metadata": {
        "colab": {
          "base_uri": "https://localhost:8080/"
        },
        "id": "WDDTVANRrlUs",
        "outputId": "067ce2ee-e68a-4c27-e090-c1e5720946cb"
      },
      "execution_count": null,
      "outputs": [
        {
          "output_type": "execute_result",
          "data": {
            "text/plain": [
              "tensor([[[[1., 0., 0., 0.],\n",
              "          [1., 1., 0., 0.],\n",
              "          [1., 1., 1., 0.],\n",
              "          [1., 1., 1., 1.]]]])"
            ]
          },
          "metadata": {},
          "execution_count": 170
        }
      ]
    },
    {
      "cell_type": "code",
      "source": [
        "knew = [[0]*4 for _ in range(4)]\n",
        "knew = torch.tensor(knew,dtype=torch.float32)"
      ],
      "metadata": {
        "id": "0LfRegawRrKY"
      },
      "execution_count": null,
      "outputs": []
    },
    {
      "cell_type": "code",
      "source": [
        "for h in range(n_head):\n",
        "    for b in range(block_size):\n",
        "        for hs in range(head_size):\n",
        "            knew[b][h * head_size + hs] = qkv[b][3 * hs  + 3*((h!=0)*h+1) + 1]\n"
      ],
      "metadata": {
        "id": "70KXJ1HgRYfZ"
      },
      "execution_count": null,
      "outputs": []
    },
    {
      "cell_type": "code",
      "source": [
        "print((k[0] == knew[:, :2]).all())\n",
        "(k[1] == knew[:,2:4]).all()"
      ],
      "metadata": {
        "id": "NgZu8ZwuT97T"
      },
      "execution_count": null,
      "outputs": []
    },
    {
      "cell_type": "code",
      "source": [
        "k.shape,knew.shape"
      ],
      "metadata": {
        "colab": {
          "base_uri": "https://localhost:8080/"
        },
        "id": "hNwQwJtmSZCj",
        "outputId": "ee3e9a29-993c-4ed0-9e8c-1cc0dc3afd34"
      },
      "execution_count": null,
      "outputs": [
        {
          "output_type": "execute_result",
          "data": {
            "text/plain": [
              "(torch.Size([4, 4]), torch.Size([4, 4]))"
            ]
          },
          "metadata": {},
          "execution_count": 174
        }
      ]
    },
    {
      "cell_type": "code",
      "source": [
        "k"
      ],
      "metadata": {
        "id": "VTDfacbzR7Yc"
      },
      "execution_count": null,
      "outputs": []
    },
    {
      "cell_type": "code",
      "source": [
        "knew"
      ],
      "metadata": {
        "id": "p5eDNXcuSTHk"
      },
      "execution_count": null,
      "outputs": []
    },
    {
      "cell_type": "code",
      "source": [
        "#############mha in parallel"
      ],
      "metadata": {
        "id": "enS6p1eDSzz2"
      },
      "execution_count": null,
      "outputs": []
    },
    {
      "cell_type": "code",
      "source": [
        "import torch\n",
        "import torch.nn as nn"
      ],
      "metadata": {
        "id": "0mhSo5Hko1er"
      },
      "execution_count": null,
      "outputs": []
    },
    {
      "cell_type": "code",
      "source": [
        "torch.manual_seed(1087)\n",
        "\n",
        "qkv = nn.Linear(n_embd,3*n_embd)\n",
        "\n",
        "\n"
      ],
      "metadata": {
        "id": "51UvVuagoHEu"
      },
      "execution_count": null,
      "outputs": []
    },
    {
      "cell_type": "code",
      "source": [
        "x = torch.randn((block_size,n_embd))"
      ],
      "metadata": {
        "id": "IinG5Reiow6i"
      },
      "execution_count": null,
      "outputs": []
    },
    {
      "cell_type": "code",
      "source": [
        "qkv(x)"
      ],
      "metadata": {
        "colab": {
          "base_uri": "https://localhost:8080/"
        },
        "id": "jT9eeHzYpDeU",
        "outputId": "ce267fc6-694d-46df-9da5-bd275cacab8a"
      },
      "execution_count": null,
      "outputs": [
        {
          "output_type": "execute_result",
          "data": {
            "text/plain": [
              "tensor([[ 0.9931,  0.4669,  0.0328, -0.7106, -0.4818,  0.8863, -0.7688, -0.1780,\n",
              "          0.9150,  1.0797,  0.0990, -0.9394],\n",
              "        [-0.4884, -0.4681,  0.2540,  0.5969, -0.1577,  0.2435,  0.3056, -0.5626,\n",
              "          0.3166,  0.3921, -0.4592, -0.1502],\n",
              "        [-0.5591, -0.2962,  0.2702,  0.3848, -0.0114,  0.1145,  0.1177, -0.5324,\n",
              "          0.5960,  0.3783, -0.4841, -0.1353],\n",
              "        [-0.8677, -1.1613, -0.3105,  0.8271,  0.2495,  0.2890,  1.0380, -0.1065,\n",
              "         -0.1906,  0.4826, -0.8630,  1.0692]], grad_fn=<AddmmBackward0>)"
            ]
          },
          "metadata": {},
          "execution_count": 177
        }
      ]
    },
    {
      "cell_type": "code",
      "source": [
        "q,k,v = qkv(x).split(n_embd,dim=1)\n",
        "q"
      ],
      "metadata": {
        "colab": {
          "base_uri": "https://localhost:8080/"
        },
        "id": "B_iUsEbhpaN4",
        "outputId": "f6381b25-8de4-465f-8b6b-dc3d9efa16dc"
      },
      "execution_count": null,
      "outputs": [
        {
          "output_type": "execute_result",
          "data": {
            "text/plain": [
              "tensor([[ 0.9931,  0.4669,  0.0328, -0.7106],\n",
              "        [-0.4884, -0.4681,  0.2540,  0.5969],\n",
              "        [-0.5591, -0.2962,  0.2702,  0.3848],\n",
              "        [-0.8677, -1.1613, -0.3105,  0.8271]], grad_fn=<SplitBackward0>)"
            ]
          },
          "metadata": {},
          "execution_count": 178
        }
      ]
    },
    {
      "cell_type": "code",
      "source": [
        "qkv(x)[:, :n_embd]"
      ],
      "metadata": {
        "colab": {
          "base_uri": "https://localhost:8080/"
        },
        "id": "1Wc-X_CmqzJ3",
        "outputId": "7730dfa7-f128-4a4b-de50-30b1990d334e"
      },
      "execution_count": null,
      "outputs": [
        {
          "output_type": "execute_result",
          "data": {
            "text/plain": [
              "tensor([[ 0.9931,  0.4669,  0.0328, -0.7106],\n",
              "        [-0.4884, -0.4681,  0.2540,  0.5969],\n",
              "        [-0.5591, -0.2962,  0.2702,  0.3848],\n",
              "        [-0.8677, -1.1613, -0.3105,  0.8271]], grad_fn=<SliceBackward0>)"
            ]
          },
          "metadata": {},
          "execution_count": 179
        }
      ]
    },
    {
      "cell_type": "code",
      "source": [
        "#qk,v = shape == block_size, n_embd means vocab_size, that when softmaxed will produce next token anytime"
      ],
      "metadata": {
        "id": "jZ5JlXRgr4kj"
      },
      "execution_count": null,
      "outputs": []
    },
    {
      "cell_type": "code",
      "source": [
        "qv = q.view(block_size, n_head,n_embd//n_head).transpose(0,1)\n",
        "kv = k.view(block_size, n_head,n_embd//n_head).transpose(0,1)\n",
        "vv = v.view(block_size, n_head,n_embd//n_head).transpose(0,1)\n"
      ],
      "metadata": {
        "id": "UhdGY2Hvscnp"
      },
      "execution_count": null,
      "outputs": []
    },
    {
      "cell_type": "code",
      "source": [
        "qv.shape#for two head 4 dims , 4  + 4 = 8 = N_EMBD\n"
      ],
      "metadata": {
        "colab": {
          "base_uri": "https://localhost:8080/"
        },
        "id": "kcqDzClsvSBt",
        "outputId": "e8bc2b5c-8a89-480a-d6ef-d526d663630f"
      },
      "execution_count": null,
      "outputs": [
        {
          "output_type": "execute_result",
          "data": {
            "text/plain": [
              "torch.Size([2, 4, 2])"
            ]
          },
          "metadata": {},
          "execution_count": 202
        }
      ]
    },
    {
      "cell_type": "code",
      "source": [
        "att = qv@kv.transpose(1,2)\n",
        "att[0].shape"
      ],
      "metadata": {
        "colab": {
          "base_uri": "https://localhost:8080/"
        },
        "id": "OrjimjXwvTIB",
        "outputId": "717a7717-b52f-4b77-9fed-ce756d214e3c"
      },
      "execution_count": null,
      "outputs": [
        {
          "output_type": "execute_result",
          "data": {
            "text/plain": [
              "torch.Size([4, 4])"
            ]
          },
          "metadata": {},
          "execution_count": 203
        }
      ]
    },
    {
      "cell_type": "code",
      "source": [
        "#or\n",
        "qv[0] == q[:,:n_embd//n_head]"
      ],
      "metadata": {
        "colab": {
          "base_uri": "https://localhost:8080/"
        },
        "id": "iFhPxgjlwGTQ",
        "outputId": "e3e2596a-201b-4150-9423-6d43c374bbca"
      },
      "execution_count": null,
      "outputs": [
        {
          "output_type": "execute_result",
          "data": {
            "text/plain": [
              "tensor([[True, True],\n",
              "        [True, True],\n",
              "        [True, True],\n",
              "        [True, True]])"
            ]
          },
          "metadata": {},
          "execution_count": 204
        }
      ]
    },
    {
      "cell_type": "code",
      "source": [
        "for i in range(n_head):\n",
        "  mq = q[:,i*head_size:(i+1)*head_size]\n",
        "  mk = k[:,i*head_size:(i+1)*head_size]\n",
        "  print((mq==qv[0]).all())\n",
        "  print((mk==kv[0]).all())\n",
        "  matt = mq@(mk.transpose(0,1))\n",
        "  print(torch.allclose(matt, att[0]))\n",
        "  break\n",
        "\n"
      ],
      "metadata": {
        "colab": {
          "base_uri": "https://localhost:8080/"
        },
        "id": "drQiVz6DxK4h",
        "outputId": "91b87dce-0714-428c-f405-fff661b1c3a2"
      },
      "execution_count": null,
      "outputs": [
        {
          "output_type": "stream",
          "name": "stdout",
          "text": [
            "tensor(True)\n",
            "tensor(True)\n",
            "True\n"
          ]
        }
      ]
    },
    {
      "cell_type": "code",
      "source": [
        "bias = torch.tril(torch.ones(block_size,block_size).view(1,block_size,block_size))"
      ],
      "metadata": {
        "id": "wP3tGvu0x6WP"
      },
      "execution_count": null,
      "outputs": []
    },
    {
      "cell_type": "code",
      "source": [
        "bias"
      ],
      "metadata": {
        "colab": {
          "base_uri": "https://localhost:8080/"
        },
        "id": "ixZ1n7S0zzce",
        "outputId": "89911ac1-ab3f-4c08-cfe2-79aaea8e36a4"
      },
      "execution_count": null,
      "outputs": [
        {
          "output_type": "execute_result",
          "data": {
            "text/plain": [
              "tensor([[[1., 0., 0., 0.],\n",
              "         [1., 1., 0., 0.],\n",
              "         [1., 1., 1., 0.],\n",
              "         [1., 1., 1., 1.]]])"
            ]
          },
          "metadata": {},
          "execution_count": 207
        }
      ]
    },
    {
      "cell_type": "code",
      "source": [
        "T = block_size\n",
        "attm = att.masked_fill(bias[:,:T,:T] == 0, float('-inf'))"
      ],
      "metadata": {
        "id": "IKb8YNr00a83"
      },
      "execution_count": null,
      "outputs": []
    },
    {
      "cell_type": "code",
      "source": [
        "att = att @ bias"
      ],
      "metadata": {
        "id": "40y4xnQiz0nS"
      },
      "execution_count": null,
      "outputs": []
    },
    {
      "cell_type": "code",
      "source": [
        "for i in range(n_head):\n",
        "  for j in range(block_size):\n",
        "    for k in range(block_size):\n",
        "      if bias[0][j][k] == 0:\n",
        "        att[i][j][k] = float('-inf')"
      ],
      "metadata": {
        "id": "QQS3u7h80KqS"
      },
      "execution_count": null,
      "outputs": []
    },
    {
      "cell_type": "code",
      "source": [
        "att,attm"
      ],
      "metadata": {
        "colab": {
          "base_uri": "https://localhost:8080/"
        },
        "id": "ppga_mq30khB",
        "outputId": "bc3b88d7-0baf-4402-cbba-75de6a00931d"
      },
      "execution_count": null,
      "outputs": [
        {
          "output_type": "execute_result",
          "data": {
            "text/plain": [
              "(tensor([[[ 0.5574,    -inf,    -inf,    -inf],\n",
              "          [-0.8893, -1.0496,    -inf,    -inf],\n",
              "          [-0.8621, -1.0149, -0.3741,    -inf],\n",
              "          [-0.5085, -0.4864, -0.3110, -0.0826]],\n",
              " \n",
              "         [[-0.3181,    -inf,    -inf,    -inf],\n",
              "          [-0.0768,  0.3728,    -inf,    -inf],\n",
              "          [-1.2234, -2.3084, -0.7263,    -inf],\n",
              "          [-0.0960,  0.5384, -0.2103,  0.5963]]]),\n",
              " tensor([[[-0.2200,    -inf,    -inf,    -inf],\n",
              "          [ 0.1604, -0.6660,    -inf,    -inf],\n",
              "          [ 0.1528, -0.6408,  0.2757,    -inf],\n",
              "          [-0.0222, -0.1754, -0.2284, -0.0826]],\n",
              " \n",
              "         [[ 0.1368,    -inf,    -inf,    -inf],\n",
              "          [-0.4496,  0.5288,    -inf,    -inf],\n",
              "          [ 1.0850, -1.5821,  0.5863,    -inf],\n",
              "          [-0.6344,  0.7487, -0.8066,  0.5963]]]))"
            ]
          },
          "metadata": {},
          "execution_count": 211
        }
      ]
    },
    {
      "cell_type": "code",
      "source": [
        "#att = attm = n_head, block_size, block_size"
      ],
      "metadata": {
        "id": "O7KOv6CA1jmH"
      },
      "execution_count": null,
      "outputs": []
    },
    {
      "cell_type": "code",
      "source": [
        "yl = attm @ v# is n_head, bsz. head_size"
      ],
      "metadata": {
        "id": "yyHk99nK1uh1"
      },
      "execution_count": null,
      "outputs": []
    },
    {
      "cell_type": "code",
      "source": [
        "y = yl\n",
        "yl = yl.transpose(0, 1).contiguous()"
      ],
      "metadata": {
        "id": "Rx0ZcEo12REq"
      },
      "execution_count": null,
      "outputs": []
    },
    {
      "cell_type": "code",
      "source": [
        "ff = []"
      ],
      "metadata": {
        "id": "44oyySd3AIhJ"
      },
      "execution_count": null,
      "outputs": []
    },
    {
      "cell_type": "code",
      "source": [
        "for i in range(block_size):\n",
        "  fl = yl[i].flatten().tolist()\n",
        "  print(fl)\n",
        "  ff.append(fl)\n"
      ],
      "metadata": {
        "colab": {
          "base_uri": "https://localhost:8080/"
        },
        "id": "FVJ7aLNFAFps",
        "outputId": "b9c3ee43-e92f-46f4-c635-d986b567e48b"
      },
      "execution_count": null,
      "outputs": [
        {
          "output_type": "stream",
          "name": "stdout",
          "text": [
            "[inf, -inf, nan, inf, inf, -inf, nan, inf]\n",
            "[inf, -inf, nan, inf, inf, -inf, nan, inf]\n",
            "[inf, -inf, -inf, inf, inf, -inf, -inf, inf]\n",
            "[0.406660795211792, -0.4270693063735962, 0.13125061988830566, 0.36470210552215576, 1.5916489362716675, 0.3409857749938965, -0.2002646028995514, -0.29666003584861755]\n"
          ]
        }
      ]
    },
    {
      "cell_type": "code",
      "source": [
        "x = yl.flatten().tolist()"
      ],
      "metadata": {
        "id": "ID7CKowv10pI"
      },
      "execution_count": null,
      "outputs": []
    },
    {
      "cell_type": "code",
      "source": [
        "x[1*n_embd+3] == ff[1][3]"
      ],
      "metadata": {
        "id": "g7OD6nCVYiPi",
        "colab": {
          "base_uri": "https://localhost:8080/"
        },
        "outputId": "9d5a4ca1-77ee-4b8b-9a79-61e45c180e65"
      },
      "execution_count": null,
      "outputs": [
        {
          "output_type": "execute_result",
          "data": {
            "text/plain": [
              "True"
            ]
          },
          "metadata": {},
          "execution_count": 227
        }
      ]
    },
    {
      "cell_type": "code",
      "source": [
        "#now tokenizer bro"
      ],
      "metadata": {
        "id": "UtqsDbgDASku"
      },
      "execution_count": null,
      "outputs": []
    },
    {
      "cell_type": "code",
      "source": [
        "from typing import List"
      ],
      "metadata": {
        "id": "XFd-2tH8U8jO"
      },
      "execution_count": null,
      "outputs": []
    },
    {
      "cell_type": "code",
      "source": [
        "vocab = {\n",
        "    'l o w </w>': 5,\n",
        "    'l o w e r </w>': 2,\n",
        "    'n e w e s t </w>': 6,\n",
        "    'w i d e s t </w>': 3,\n",
        "    'h a p p i e r </w>': 2\n",
        "}"
      ],
      "metadata": {
        "id": "Olt2LmoRfwiB"
      },
      "execution_count": null,
      "outputs": []
    },
    {
      "cell_type": "code",
      "source": [
        "def get_pair(vocab):\n",
        "  pairs = {}\n",
        "  for word, freq in vocab.items():\n",
        "    sym = word.split()\n",
        "\n",
        "    for i in range(len(sym)-1):\n",
        "      pair = (sym[i],sym[i+1])\n",
        "      pairs[pair] = pairs.get(pair,0)+freq\n",
        "  return pairs"
      ],
      "metadata": {
        "id": "6tCH4TaRh1fj"
      },
      "execution_count": null,
      "outputs": []
    },
    {
      "cell_type": "code",
      "source": [
        "pairs = get_pair(vocab)"
      ],
      "metadata": {
        "id": "rg2KbZgeigLb"
      },
      "execution_count": null,
      "outputs": []
    },
    {
      "cell_type": "code",
      "source": [
        "import re\n",
        "best_pair = max(pairs,key=pairs.get)\n",
        "patt = re.escape(' '.join(best_pair))\n",
        "repl = ''.join(best_pair)\n",
        "vocab_out = {}\n",
        "for word in vocab:\n",
        "  out = re.sub(patt,repl,word)\n",
        "  vocab_out[out] = vocab[word]\n"
      ],
      "metadata": {
        "id": "3V-jTq8YjpZi"
      },
      "execution_count": null,
      "outputs": []
    },
    {
      "cell_type": "code",
      "source": [
        "vocab_out"
      ],
      "metadata": {
        "colab": {
          "base_uri": "https://localhost:8080/"
        },
        "id": "iPV4i_ySlrbH",
        "outputId": "97492ec1-8bd5-4a19-cbec-f3aed8f4114e"
      },
      "execution_count": null,
      "outputs": [
        {
          "output_type": "execute_result",
          "data": {
            "text/plain": [
              "{'l o w </w>': 5,\n",
              " 'l o w e r </w>': 2,\n",
              " 'n e w es t </w>': 6,\n",
              " 'w i d es t </w>': 3,\n",
              " 'h a p p i e r </w>': 2}"
            ]
          },
          "metadata": {},
          "execution_count": 16
        }
      ]
    },
    {
      "cell_type": "code",
      "source": [],
      "metadata": {
        "id": "TZ8YAsSZihoi"
      },
      "execution_count": null,
      "outputs": []
    }
  ]
}